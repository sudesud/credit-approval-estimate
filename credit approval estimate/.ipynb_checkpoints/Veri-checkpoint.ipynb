{
 "cells": [
  {
   "cell_type": "code",
   "execution_count": null,
   "id": "246c09a1-e8e4-4b82-aaea-7a1c41d8dc35",
   "metadata": {},
   "outputs": [],
   "source": [
    "import pandas as pd\n",
    "import numpy as np\n",
    "\n",
    "# Rastgele veri oluşturmak için sabit tohum\n",
    "np.random.seed(42)\n",
    "\n",
    "# Veri seti büyüklüğü\n",
    "n_samples = 1000\n",
    "\n",
    "# Özellikler\n",
    "\n",
    "gelir = np.random.randint(20000, 200000, n_samples)  # 20k ile 200k arasında rastgele gelir\n",
    "yaş = np.random.randint(18, 70, n_samples)  # 18 ile 70 yaş arası\n",
    "kredi_skoru = np.random.randint(300, 850, n_samples)  # 300-850 arasında kredi skoru\n",
    "borç_oranı = np.round(np.random.uniform(0, 1, n_samples), 2)  # 0 ile 1 arasında borç/gider oranı\n",
    "\n",
    "çalışma_süresi = np.random.randint(0, 40, n_samples)  # 0-40 yıl arasında çalışma süresi\n",
    "\n",
    "eğitim_seviyesi = np.random.choice(['Lise', 'Üniversite', 'Yüksek Lisans', 'Doktora'], n_samples)\n",
    "\n",
    "# Kredi başvuru durumunu belirlemek için bir mantık ekleyelim\n",
    "# Mantık: Gelir yüksek, kredi skoru yüksek, borç oranı düşükse onay olasılığı artar\n",
    "onaylama_olasılığı = (\n",
    "    (gelir > 50000) * 0.3 + \n",
    "    (kredi_skoru > 600) * 0.4 - \n",
    "    (borç_oranı > 0.5) * 0.3 + \n",
    "    (çalışma_süresi > 2) * 0.2\n",
    ")\n",
    "onaylama_olasılığı = np.clip(onaylama_olasılığı, 0, 1)  # Olasılık 0 ile 1 arasında olmalı\n",
    "kredi_başvuru_durumu = (np.random.rand(n_samples) < onaylama_olasılığı).astype(int)  # 1: Onay, 0: Reddedildi\n",
    "\n",
    "# Veri setini bir DataFrame'e dönüştürelim\n",
    "data = pd.DataFrame({\n",
    "    'Gelir': gelir,\n",
    "    'Yaş': yaş,\n",
    "    'Kredi Skoru': kredi_skoru,\n",
    "    'Borç Oranı': borç_oranı,\n",
    "    'Çalışma Süresi': çalışma_süresi,\n",
    "    'Eğitim Seviyesi': eğitim_seviyesi,\n",
    "    'Kredi Başvuru Durumu': kredi_başvuru_durumu\n",
    "})\n",
    "\n",
    "# CSV dosyasına kaydedelim\n",
    "data.to_csv('veri.csv', index=False)\n",
    "\n",
    "print(\"Veri seti oluşturuldu ve 'veri.csv' dosyasına kaydedildi.\")\n",
    "\n",
    "# Örnek veri seti gösterimi\n",
    "print(data.head())\n"
   ]
  }
 ],
 "metadata": {
  "kernelspec": {
   "display_name": "",
   "name": ""
  },
  "language_info": {
   "name": ""
  }
 },
 "nbformat": 4,
 "nbformat_minor": 5
}
